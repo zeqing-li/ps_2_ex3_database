{
 "cells": [
  {
   "cell_type": "code",
   "execution_count": null,
   "metadata": {},
   "outputs": [],
   "source": [
    "import pandas as pd\n",
    "import matplotlib.pyplot as plt\n",
    "import seaborn as sns\n",
    "import sqlite3 as sql\n",
    "from pathlib import Path"
   ]
  },
  {
   "cell_type": "code",
   "execution_count": null,
   "metadata": {},
   "outputs": [],
   "source": [
    "DATA_PATH = Path.cwd() / 'data/nba.sqlite'\n",
    "\n",
    "def load_data(query, connection):\n",
    "    return pd.read_sql(query, connection)\n",
    "\n",
    "query = 'SELECT * FROM game'\n",
    "con = sql.connect(DATA_PATH) \n",
    "df = load_data(query, con)\n",
    "df.head()"
   ]
  },
  {
   "cell_type": "code",
   "execution_count": null,
   "metadata": {},
   "outputs": [],
   "source": [
    "df['game_date'] = pd.to_datetime(df['game_date'])\n",
    "df"
   ]
  },
  {
   "cell_type": "code",
   "execution_count": null,
   "metadata": {},
   "outputs": [],
   "source": [
    "plt.figure(figsize=(10, 6))\n",
    "sns.histplot(df['pts_home'], color='blue', label='Home Points', kde=True, bins=20)\n",
    "sns.histplot(df['pts_away'], color='orange', label='Away Points', kde=True, bins=20)\n",
    "plt.title('Distribution of Points Scored by Home and Away Teams')\n",
    "plt.xlabel('Points')\n",
    "plt.ylabel('Frequency')\n",
    "plt.legend()\n",
    "plt.show()"
   ]
  },
  {
   "cell_type": "markdown",
   "metadata": {},
   "source": [
    "This visualization shows the distribution of points scored by home and away teams to compare their performance trends. This reveal that there is a general trend toward higher scoring for home or away teams.\n",
    "\n",
    "According to the image, home teams are more likely to earn higher points."
   ]
  },
  {
   "cell_type": "code",
   "execution_count": null,
   "metadata": {},
   "outputs": [],
   "source": [
    "team_performance = df.groupby('team_abbreviation_home')[['pts_home', 'pts_away']].mean().reset_index()\n",
    "team_performance.columns = ['Team', 'Average Home Points', 'Average Away Points']\n",
    "team_performance = team_performance.sort_values('Average Home Points', ascending=False)\n",
    "team_performance"
   ]
  },
  {
   "cell_type": "code",
   "execution_count": null,
   "metadata": {},
   "outputs": [],
   "source": [
    "plt.figure(figsize=(14, 6))\n",
    "sns.barplot(data=team_performance.melt(id_vars='Team'), x='Team', y='value', hue='variable')\n",
    "plt.title('Average Points Scored by Team (Home vs Away)')\n",
    "plt.xlabel('Team')\n",
    "plt.ylabel('Average Points')\n",
    "plt.xticks(rotation=45)\n",
    "plt.show()"
   ]
  },
  {
   "cell_type": "markdown",
   "metadata": {},
   "source": [
    "This compare the average points scored by each team in home and away games.\n",
    "This reveal teams that perform better at home or away, which could reveal strategic tendencies or fanbase effects.\n",
    "\n",
    "According to the image, generally, each teams are more likey to get higher points in home games. However, a few teams have better performance in away games."
   ]
  },
  {
   "cell_type": "markdown",
   "metadata": {},
   "source": []
  }
 ],
 "metadata": {
  "kernelspec": {
   "display_name": "Python 3.10.10 64-bit",
   "language": "python",
   "name": "python3"
  },
  "language_info": {
   "codemirror_mode": {
    "name": "ipython",
    "version": 3
   },
   "file_extension": ".py",
   "mimetype": "text/x-python",
   "name": "python",
   "nbconvert_exporter": "python",
   "pygments_lexer": "ipython3",
   "version": "3.10.10"
  },
  "vscode": {
   "interpreter": {
    "hash": "bd385fe162c5ca0c84973b7dd5c518456272446b2b64e67c2a69f949ca7a1754"
   }
  }
 },
 "nbformat": 4,
 "nbformat_minor": 2
}
